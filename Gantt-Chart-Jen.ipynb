{
 "cells": [
  {
   "cell_type": "code",
   "execution_count": 2,
   "id": "ec49b461",
   "metadata": {},
   "outputs": [
    {
     "data": {
      "application/vnd.jupyter.widget-view+json": {
       "model_id": "8da9628b97da40ed8b125535fd1972aa",
       "version_major": 2,
       "version_minor": 0
      },
      "text/plain": [
       "Dropdown(description='Select Date:', options=(datetime.date(2023, 9, 1), datetime.date(2023, 9, 5), datetime.d…"
      ]
     },
     "metadata": {},
     "output_type": "display_data"
    },
    {
     "data": {
      "application/vnd.jupyter.widget-view+json": {
       "model_id": "7612895cdf714d64865e85deebde3160",
       "version_major": 2,
       "version_minor": 0
      },
      "text/plain": [
       "Output()"
      ]
     },
     "metadata": {},
     "output_type": "display_data"
    }
   ],
   "source": [
    "import pandas as pd\n",
    "import matplotlib.pyplot as plt\n",
    "import matplotlib.dates as mdates\n",
    "from datetime import datetime, time\n",
    "from ipywidgets import widgets, interact\n",
    "from ipywidgets.embed import embed_minimal_html\n",
    "from IPython.display import display\n",
    "\n",
    "# Function to convert hhmm float to datetime.time object\n",
    "def hhmm_to_time(hhmm):\n",
    "    hh = int(hhmm // 100)\n",
    "    mm = int(hhmm % 100)\n",
    "    return time(hh, mm)\n",
    "\n",
    "# Load the data (replace the file path with your own)\n",
    "file_path = 'ROC Sept. Log Book.xlsx'  # Replace with your file path\n",
    "df = pd.read_excel(file_path, sheet_name=0)\n",
    "\n",
    "# Convert 'Start' and 'End' columns to float type\n",
    "df['Start'] = pd.to_numeric(df['Start'], errors='coerce')\n",
    "df['End'] = pd.to_numeric(df['End'], errors='coerce')\n",
    "\n",
    "# Filter the data\n",
    "filtered_df = df[['DATE', 'BED', 'Start', 'End']].copy()\n",
    "filtered_df.dropna(subset=['DATE', 'BED', 'Start', 'End'], inplace=True)\n",
    "\n",
    "# Convert 'DATE' column to datetime\n",
    "filtered_df['DATE'] = pd.to_datetime(filtered_df['DATE'])\n",
    "\n",
    "# Convert 'Start' and 'End' columns to datetime.time\n",
    "filtered_df['Start'] = filtered_df['Start'].apply(hhmm_to_time)\n",
    "filtered_df['End'] = filtered_df['End'].apply(hhmm_to_time)\n",
    "\n",
    "# Function to plot Gantt chart\n",
    "def plot_gantt_chart_with_static_time(df, selected_date):\n",
    "    filtered_day_df = df[df['DATE'] == selected_date]\n",
    "    filtered_day_df = filtered_day_df.sort_values(['BED', 'Start'])\n",
    "    \n",
    "    fig, ax = plt.subplots(figsize=(14, 8))\n",
    "    ax.xaxis.set_major_locator(mdates.HourLocator(interval=1))\n",
    "    ax.xaxis.set_major_formatter(mdates.DateFormatter(\"%H:%M\"))\n",
    "    \n",
    "    xlim_start = datetime.combine(selected_date, time(6, 0))\n",
    "    xlim_end = datetime.combine(selected_date, time(20, 0))\n",
    "    ax.set_xlim([xlim_start, xlim_end])\n",
    "    \n",
    "    for idx, row in filtered_day_df.iterrows():\n",
    "        start_time = datetime.combine(selected_date, row['Start'])\n",
    "        end_time = datetime.combine(selected_date, row['End'])\n",
    "        ax.barh(row['BED'], end_time - start_time, left=start_time, color='blue', edgecolor='black')\n",
    "    \n",
    "    ax.set_xlabel('Time (hh:mm)')\n",
    "    ax.set_ylabel('Bed')\n",
    "    ax.set_title(f'Gantt Chart for {selected_date.strftime(\"%Y-%m-%d\")}')\n",
    "    ax.invert_yaxis()\n",
    "    plt.show()\n",
    "\n",
    "# Create a dropdown widget\n",
    "dropdown = widgets.Dropdown(\n",
    "    options=filtered_df['DATE'].dt.date.unique(),\n",
    "    description='Select Date:',\n",
    ")\n",
    "\n",
    "# Create an output widget\n",
    "output = widgets.Output()\n",
    "\n",
    "# Function to update plot based on dropdown\n",
    "def update_plot(change):\n",
    "    selected_date = pd.Timestamp(change['new'])\n",
    "    with output:\n",
    "        output.clear_output(wait=True)\n",
    "        plot_gantt_chart_with_static_time(filtered_df, selected_date)\n",
    "\n",
    "# Manually call update_plot to generate an initial plot\n",
    "initial_date = pd.Timestamp(dropdown.value)\n",
    "with output:\n",
    "    output.clear_output(wait=True)\n",
    "    plot_gantt_chart_with_static_time(filtered_df, initial_date)\n",
    "\n",
    "# Attach update function to dropdown\n",
    "dropdown.observe(update_plot, names='value')\n",
    "\n",
    "# Explicitly display the dropdown and output widgets in the notebook\n",
    "display(dropdown)\n",
    "display(output)\n",
    "\n",
    "# Embed in an HTML file\n",
    "embed_minimal_html('interactive_gantt_chart.html', views=[dropdown, output], title='Interactive Gantt Chart')"
   ]
  },
  {
   "cell_type": "code",
   "execution_count": null,
   "id": "7f6bb88f",
   "metadata": {},
   "outputs": [],
   "source": []
  }
 ],
 "metadata": {
  "kernelspec": {
   "display_name": "Python 3 (ipykernel)",
   "language": "python",
   "name": "python3"
  },
  "language_info": {
   "codemirror_mode": {
    "name": "ipython",
    "version": 3
   },
   "file_extension": ".py",
   "mimetype": "text/x-python",
   "name": "python",
   "nbconvert_exporter": "python",
   "pygments_lexer": "ipython3",
   "version": "3.10.9"
  }
 },
 "nbformat": 4,
 "nbformat_minor": 5
}
